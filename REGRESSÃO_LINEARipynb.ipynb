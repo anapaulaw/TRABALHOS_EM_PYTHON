{
  "nbformat": 4,
  "nbformat_minor": 0,
  "metadata": {
    "colab": {
      "name": "REGRESSÃO_LINEARipynb",
      "provenance": [],
      "collapsed_sections": [],
      "authorship_tag": "ABX9TyM+HOGCUWFfTxHMMMziDkjd"
    },
    "kernelspec": {
      "name": "python3",
      "display_name": "Python 3"
    },
    "language_info": {
      "name": "python"
    }
  },
  "cells": [
    {
      "cell_type": "markdown",
      "metadata": {
        "id": "cMeIYp36ToWZ"
      },
      "source": [
        "# REGRESSÃO SIMPLES\n",
        "\n",
        "\n",
        "\n",
        "A Regressão Linear Simples é modelo mais simples de regressão linear.\n",
        " Nela, utilizamos apenas uma variável de desfecho e uma variável preditora. Quando utilizamos mais variáveis preditoras, chamamos de Regressão Linear Múltipla.\n",
        "\n",
        "O problema tratado nesse trabalho é uma simulação da  previsão do tamanho da população brasileira entre 1872 e 2010.\n",
        "Na regressão linear temos uma modelagem entre variáveis númericas uma variável dependente e outra variável independente.\n",
        "Chamamos de regressao linear simples quando só temos uma variável explanatória com base nos valores de X tentamos prever os valores de Y."
      ]
    },
    {
      "cell_type": "markdown",
      "metadata": {
        "id": "nm2eV7jAIgEK"
      },
      "source": [
        "IMPORTANDO BIBLIOTECAS E CARREGANDO BANCO DE DADOS"
      ]
    },
    {
      "cell_type": "code",
      "metadata": {
        "id": "JmQvTBbEFPPS"
      },
      "source": [
        "import pandas as pd"
      ],
      "execution_count": null,
      "outputs": []
    },
    {
      "cell_type": "markdown",
      "metadata": {
        "id": "qKgsKlrAhqaK"
      },
      "source": [
        "Pandas é uma biblioteca de software criada para a linguagem Python para manipulação e análise de dados.\n",
        "\n",
        "\n",
        "\n"
      ]
    },
    {
      "cell_type": "markdown",
      "metadata": {
        "id": "gLggbhUWiGBW"
      },
      "source": [
        "CARREGANDO BANCO DE DADOS"
      ]
    },
    {
      "cell_type": "code",
      "metadata": {
        "id": "THZ3KPorMrMp"
      },
      "source": [
        "dados = pd.read_csv('pop_brasil.csv')"
      ],
      "execution_count": null,
      "outputs": []
    },
    {
      "cell_type": "code",
      "metadata": {
        "colab": {
          "base_uri": "https://localhost:8080/",
          "height": 421
        },
        "id": "MkKH92YBVgiV",
        "outputId": "5057e1e0-2bd6-4c7b-e210-95325c48ff74"
      },
      "source": [
        "dados"
      ],
      "execution_count": null,
      "outputs": [
        {
          "output_type": "execute_result",
          "data": {
            "text/html": [
              "<div>\n",
              "<style scoped>\n",
              "    .dataframe tbody tr th:only-of-type {\n",
              "        vertical-align: middle;\n",
              "    }\n",
              "\n",
              "    .dataframe tbody tr th {\n",
              "        vertical-align: top;\n",
              "    }\n",
              "\n",
              "    .dataframe thead th {\n",
              "        text-align: right;\n",
              "    }\n",
              "</style>\n",
              "<table border=\"1\" class=\"dataframe\">\n",
              "  <thead>\n",
              "    <tr style=\"text-align: right;\">\n",
              "      <th></th>\n",
              "      <th>ano</th>\n",
              "      <th>população</th>\n",
              "    </tr>\n",
              "  </thead>\n",
              "  <tbody>\n",
              "    <tr>\n",
              "      <th>0</th>\n",
              "      <td>1872</td>\n",
              "      <td>9930478</td>\n",
              "    </tr>\n",
              "    <tr>\n",
              "      <th>1</th>\n",
              "      <td>1890</td>\n",
              "      <td>14333915</td>\n",
              "    </tr>\n",
              "    <tr>\n",
              "      <th>2</th>\n",
              "      <td>1900</td>\n",
              "      <td>17438434</td>\n",
              "    </tr>\n",
              "    <tr>\n",
              "      <th>3</th>\n",
              "      <td>1920</td>\n",
              "      <td>30635605</td>\n",
              "    </tr>\n",
              "    <tr>\n",
              "      <th>4</th>\n",
              "      <td>1940</td>\n",
              "      <td>41236315</td>\n",
              "    </tr>\n",
              "    <tr>\n",
              "      <th>5</th>\n",
              "      <td>1950</td>\n",
              "      <td>51944397</td>\n",
              "    </tr>\n",
              "    <tr>\n",
              "      <th>6</th>\n",
              "      <td>1960</td>\n",
              "      <td>70992343</td>\n",
              "    </tr>\n",
              "    <tr>\n",
              "      <th>7</th>\n",
              "      <td>1970</td>\n",
              "      <td>94508583</td>\n",
              "    </tr>\n",
              "    <tr>\n",
              "      <th>8</th>\n",
              "      <td>1980</td>\n",
              "      <td>121150573</td>\n",
              "    </tr>\n",
              "    <tr>\n",
              "      <th>9</th>\n",
              "      <td>1991</td>\n",
              "      <td>146917459</td>\n",
              "    </tr>\n",
              "    <tr>\n",
              "      <th>10</th>\n",
              "      <td>2000</td>\n",
              "      <td>169590693</td>\n",
              "    </tr>\n",
              "    <tr>\n",
              "      <th>11</th>\n",
              "      <td>2010</td>\n",
              "      <td>190755799</td>\n",
              "    </tr>\n",
              "  </tbody>\n",
              "</table>\n",
              "</div>"
            ],
            "text/plain": [
              "     ano  população\n",
              "0   1872    9930478\n",
              "1   1890   14333915\n",
              "2   1900   17438434\n",
              "3   1920   30635605\n",
              "4   1940   41236315\n",
              "5   1950   51944397\n",
              "6   1960   70992343\n",
              "7   1970   94508583\n",
              "8   1980  121150573\n",
              "9   1991  146917459\n",
              "10  2000  169590693\n",
              "11  2010  190755799"
            ]
          },
          "metadata": {},
          "execution_count": 3
        }
      ]
    },
    {
      "cell_type": "markdown",
      "metadata": {
        "id": "j6mOlqIlIpiz"
      },
      "source": [
        "VARIÁVEL INDEPENDENTE"
      ]
    },
    {
      "cell_type": "markdown",
      "metadata": {
        "id": "f0BccjBBkM0X"
      },
      "source": [
        "A função iloc seleciona linhas e colunas por números nesse caso selecionamos todos os valores da primeira coluna e a função values nos retorna a lista de valores contidos."
      ]
    },
    {
      "cell_type": "code",
      "metadata": {
        "id": "RNmg2OhHUytJ"
      },
      "source": [
        "X = dados.iloc[:, [0]].values"
      ],
      "execution_count": null,
      "outputs": []
    },
    {
      "cell_type": "code",
      "metadata": {
        "colab": {
          "base_uri": "https://localhost:8080/"
        },
        "id": "VS81djqRUyzO",
        "outputId": "f8e60c06-b5e9-46f1-e88d-73e5cd6507b6"
      },
      "source": [
        "print(X)"
      ],
      "execution_count": null,
      "outputs": [
        {
          "output_type": "stream",
          "name": "stdout",
          "text": [
            "[[1872]\n",
            " [1890]\n",
            " [1900]\n",
            " [1920]\n",
            " [1940]\n",
            " [1950]\n",
            " [1960]\n",
            " [1970]\n",
            " [1980]\n",
            " [1991]\n",
            " [2000]\n",
            " [2010]]\n"
          ]
        }
      ]
    },
    {
      "cell_type": "markdown",
      "metadata": {
        "id": "6o0CmK_QLBO_"
      },
      "source": [
        "Já a variável dependente será a variável que queremos prever nesse caso a população."
      ]
    },
    {
      "cell_type": "code",
      "metadata": {
        "id": "Uy78aPyxVvjH"
      },
      "source": [
        "y = dados.iloc[:, 1].values"
      ],
      "execution_count": null,
      "outputs": []
    },
    {
      "cell_type": "code",
      "metadata": {
        "colab": {
          "base_uri": "https://localhost:8080/"
        },
        "id": "U6aT-KWXVvnH",
        "outputId": "aeb1ddef-e368-423f-dc30-002ce9e03e2f"
      },
      "source": [
        "print(y)"
      ],
      "execution_count": null,
      "outputs": [
        {
          "output_type": "stream",
          "name": "stdout",
          "text": [
            "[  9930478  14333915  17438434  30635605  41236315  51944397  70992343\n",
            "  94508583 121150573 146917459 169590693 190755799]\n"
          ]
        }
      ]
    },
    {
      "cell_type": "markdown",
      "metadata": {
        "id": "l1VudqmGTLn1"
      },
      "source": [
        "TREINAMENTO E AJUSTE DO MODELO"
      ]
    },
    {
      "cell_type": "markdown",
      "metadata": {
        "id": "jVsVgJ1eLrjj"
      },
      "source": [
        "Dados de treino são os dados que serão apresentados ao algoritmo de machine learning para criação do modelo.\n",
        " Estes dados costumam representar cerca de 70% da totalidade dos dados."
      ]
    },
    {
      "cell_type": "code",
      "metadata": {
        "colab": {
          "base_uri": "https://localhost:8080/"
        },
        "id": "XNVRnryqMrUE",
        "outputId": "275265eb-a02a-44ab-c82c-bb2dd69d8566"
      },
      "source": [
        "from sklearn import linear_model\n",
        "regr = linear_model.LinearRegression()\n",
        "regr.fit(X,y)"
      ],
      "execution_count": null,
      "outputs": [
        {
          "output_type": "execute_result",
          "data": {
            "text/plain": [
              "LinearRegression(copy_X=True, fit_intercept=True, n_jobs=None, normalize=False)"
            ]
          },
          "metadata": {},
          "execution_count": 8
        }
      ]
    },
    {
      "cell_type": "markdown",
      "metadata": {
        "id": "b2-cKH-ZlpDn"
      },
      "source": [
        "A Scikit-Learn é uma biblioteca Python para trabalhar com Machine Learning dentro dessa biblioteca chamaremos a função linear-model que fará o modelo de regressão linear e o fit que basicamente calcula os parâmetros de aprendizagem de cada modelo."
      ]
    },
    {
      "cell_type": "markdown",
      "metadata": {
        "id": "oj_cic8IWfxP"
      },
      "source": [
        "TESTE"
      ]
    },
    {
      "cell_type": "markdown",
      "metadata": {
        "id": "lO6-4K89L5dr"
      },
      "source": [
        "Os dados de teste serão apresentados ao modelo após a sua criação, simulando previsões reais que o modelo realizará, permitindo assim que o desempenho real seja verificado. Estes dados costumam representar cerca de 30% da totalidade dos dados."
      ]
    },
    {
      "cell_type": "code",
      "metadata": {
        "id": "G1PW9DZMMra_"
      },
      "source": [
        "X_teste = [[1895], [1923], [1945], [1978], [2020]]\n",
        "y_previsto = regr.predict( X_teste)"
      ],
      "execution_count": null,
      "outputs": []
    },
    {
      "cell_type": "markdown",
      "metadata": {
        "id": "q4Pr-TXIonCV"
      },
      "source": [
        "A função predict() retorna uma matriz de previsões para cada instância de dados no conjunto de testes. Podemos então, imprimir nossas previsões para ter uma ideia do que o modelo determinou."
      ]
    },
    {
      "cell_type": "markdown",
      "metadata": {
        "id": "9cipITCtXisL"
      },
      "source": [
        "GRÁFICO"
      ]
    },
    {
      "cell_type": "markdown",
      "metadata": {
        "id": "s0oOx4zOnlwe"
      },
      "source": [
        "A seguir vamos chamar a biblioteca matplotlib para criação de gráficos e visualização de dados."
      ]
    },
    {
      "cell_type": "code",
      "metadata": {
        "colab": {
          "base_uri": "https://localhost:8080/",
          "height": 300
        },
        "id": "Dkxd46fRXIv_",
        "outputId": "e081b8ee-93f0-446a-f58f-45aab12ee7b5"
      },
      "source": [
        "import matplotlib.pyplot as plt\n",
        "plt.scatter(X,y, color= \"black\" )\n",
        "plt.title('PREVISÃO DO CRESCIMENTO DA POPULAÇÃO BRASILEIRA')"
      ],
      "execution_count": null,
      "outputs": [
        {
          "output_type": "execute_result",
          "data": {
            "text/plain": [
              "Text(0.5, 1.0, 'PREVISÃO DO CRESCIMENTO DA POPULAÇÃO BRASILEIRA')"
            ]
          },
          "metadata": {},
          "execution_count": 10
        },
        {
          "output_type": "display_data",
          "data": {
            "image/png": "[encoded data removed]",
            "text/plain": [
              "<Figure size 432x288 with 1 Axes>"
            ]
          },
          "metadata": {
            "needs_background": "light"
          }
        }
      ]
    },
    {
      "cell_type": "code",
      "metadata": {
        "id": "kA6ERCDF_hNA"
      },
      "source": [
        ""
      ],
      "execution_count": null,
      "outputs": []
    },
    {
      "cell_type": "markdown",
      "metadata": {
        "id": "PM76JadA_jBp"
      },
      "source": [
        "FORMULA PARA CALCULAR ERRO DO MODELO"
      ]
    },
    {
      "cell_type": "code",
      "metadata": {
        "id": "KhcQ_25j_hQK"
      },
      "source": [
        "from sklearn.metrics import mean_squared_error\n",
        "from math import sqrt\n",
        "\n",
        "rmse = sqrt(mean_squared_error(y_actual, y_predicted))"
      ],
      "execution_count": null,
      "outputs": []
    },
    {
      "cell_type": "markdown",
      "metadata": {
        "id": "F5Jn1FM-_2vD"
      },
      "source": [
        "SCORE PARA MEDIR EFICACIA DO MODELO"
      ]
    },
    {
      "cell_type": "code",
      "metadata": {
        "id": "GwZXimQG_hVh"
      },
      "source": [
        "modelo.score(X_train, Y_train)"
      ],
      "execution_count": null,
      "outputs": []
    },
    {
      "cell_type": "markdown",
      "metadata": {
        "id": "-A5LRsM6nYe1"
      },
      "source": [
        "ANA PAULA S. VANDERLEY\n"
      ]
    }
  ]
}