{
  "nbformat": 4,
  "nbformat_minor": 0,
  "metadata": {
    "colab": {
      "name": "PROUNI_2013.ipynb",
      "provenance": [],
      "collapsed_sections": [],
      "authorship_tag": "ABX9TyMgxm+P4yqmOAefupp2h9C9"
    },
    "kernelspec": {
      "name": "python3",
      "display_name": "Python 3"
    }
  },
  "cells": [
    {
      "cell_type": "markdown",
      "metadata": {
        "id": "Z1RZac6qiOzs"
      },
      "source": [
        "# **ANÁLISE DE DADOS DO PROUNI - 2013**\n",
        "FONTE: www.dados.gov.br\n",
        "\n"
      ]
    },
    {
      "cell_type": "markdown",
      "source": [
        "# Esse foi meu primeiro trabalho em PYTHON resolvi analisar os dados do PROUNI 2013 que foi o ano que eu ganhei minha bolsa para graduação em Administração. Uma analise simples exploratória dos dados."
      ],
      "metadata": {
        "id": "_fQcwpMAEHDf"
      }
    },
    {
      "cell_type": "markdown",
      "metadata": {
        "id": "KA6S8NNPjgc4"
      },
      "source": [
        "# **Importando bibliotecas**"
      ]
    },
    {
      "cell_type": "code",
      "metadata": {
        "id": "wPyMhn7aJvcJ"
      },
      "source": [
        "import pandas as pd\n",
        "import numpy as np\n",
        "import matplotlib.pyplot as plt"
      ],
      "execution_count": null,
      "outputs": []
    },
    {
      "cell_type": "markdown",
      "metadata": {
        "id": "L0Go4f7ZgniQ"
      },
      "source": [
        "# **Carregando o banco de dados**"
      ]
    },
    {
      "cell_type": "code",
      "metadata": {
        "id": "9tFPXyjXgkep"
      },
      "source": [
        "df = pd.read_csv('http://informacao.mec.gov.br/bilibs/PDA/PROUNI/PDA_PROUNI_2013_CSV.csv' , sep=';', encoding= 'cp1252')"
      ],
      "execution_count": null,
      "outputs": []
    },
    {
      "cell_type": "markdown",
      "metadata": {
        "id": "nJiLCHPUguGn"
      },
      "source": [
        "# **Lendo o banco de dados**"
      ]
    },
    {
      "cell_type": "code",
      "metadata": {
        "colab": {
          "base_uri": "https://localhost:8080/",
          "height": 462
        },
        "id": "uAlnlgTmg_Me",
        "outputId": "76502d0d-15f0-4595-d62a-2ded1da1cad7"
      },
      "source": [
        "df.head()"
      ],
      "execution_count": null,
      "outputs": [
        {
          "output_type": "execute_result",
          "data": {
            "text/html": [
              "<div>\n",
              "<style scoped>\n",
              "    .dataframe tbody tr th:only-of-type {\n",
              "        vertical-align: middle;\n",
              "    }\n",
              "\n",
              "    .dataframe tbody tr th {\n",
              "        vertical-align: top;\n",
              "    }\n",
              "\n",
              "    .dataframe thead th {\n",
              "        text-align: right;\n",
              "    }\n",
              "</style>\n",
              "<table border=\"1\" class=\"dataframe\">\n",
              "  <thead>\n",
              "    <tr style=\"text-align: right;\">\n",
              "      <th></th>\n",
              "      <th>ANO_CONCESSAO_BOLSA</th>\n",
              "      <th>CODIGO_EMEC_IES_BOLSA</th>\n",
              "      <th>NOME_IES_BOLSA</th>\n",
              "      <th>TIPO_BOLSA</th>\n",
              "      <th>MODALIDADE_ENSINO_BOLSA</th>\n",
              "      <th>NOME_CURSO_BOLSA</th>\n",
              "      <th>NOME_TURNO_CURSO_BOLSA</th>\n",
              "      <th>CPF_BENEFICIARIO_BOLSA</th>\n",
              "      <th>SEXO_BENEFICIARIO_BOLSA</th>\n",
              "      <th>RACA_BENEFICIARIO_BOLSA</th>\n",
              "      <th>DT_NASCIMENTO_BENEFICIARIO</th>\n",
              "      <th>BENEFICIARIO_DEFICIENTE_FISICO</th>\n",
              "      <th>REGIAO_BENEFICIARIO_BOLSA</th>\n",
              "      <th>SIGLA_UF_BENEFICIARIO_BOLSA</th>\n",
              "      <th>MUNICIPIO_BENEFICIARIO_BOLSA</th>\n",
              "    </tr>\n",
              "  </thead>\n",
              "  <tbody>\n",
              "    <tr>\n",
              "      <th>0</th>\n",
              "      <td>2013</td>\n",
              "      <td>20</td>\n",
              "      <td>UNIVERSIDADE DE PASSO FUNDO</td>\n",
              "      <td>BOLSA PARCIAL 50%</td>\n",
              "      <td>PRESENCIAL</td>\n",
              "      <td>Administração</td>\n",
              "      <td>Noturno</td>\n",
              "      <td>***883370**</td>\n",
              "      <td>Feminino</td>\n",
              "      <td>Branca</td>\n",
              "      <td>08-06-1992</td>\n",
              "      <td>NÃO</td>\n",
              "      <td>SUL</td>\n",
              "      <td>RS</td>\n",
              "      <td>SOLEDADE</td>\n",
              "    </tr>\n",
              "    <tr>\n",
              "      <th>1</th>\n",
              "      <td>2013</td>\n",
              "      <td>20</td>\n",
              "      <td>UNIVERSIDADE DE PASSO FUNDO</td>\n",
              "      <td>BOLSA INTEGRAL</td>\n",
              "      <td>PRESENCIAL</td>\n",
              "      <td>Educação Física</td>\n",
              "      <td>Noturno</td>\n",
              "      <td>***909590**</td>\n",
              "      <td>Masculino</td>\n",
              "      <td>Branca</td>\n",
              "      <td>06-12-1991</td>\n",
              "      <td>NÃO</td>\n",
              "      <td>SUL</td>\n",
              "      <td>RS</td>\n",
              "      <td>SOLEDADE</td>\n",
              "    </tr>\n",
              "    <tr>\n",
              "      <th>2</th>\n",
              "      <td>2013</td>\n",
              "      <td>20</td>\n",
              "      <td>UNIVERSIDADE DE PASSO FUNDO</td>\n",
              "      <td>BOLSA PARCIAL 50%</td>\n",
              "      <td>PRESENCIAL</td>\n",
              "      <td>Educação Física</td>\n",
              "      <td>Noturno</td>\n",
              "      <td>***254270**</td>\n",
              "      <td>Masculino</td>\n",
              "      <td>Branca</td>\n",
              "      <td>08-04-1987</td>\n",
              "      <td>NÃO</td>\n",
              "      <td>SUL</td>\n",
              "      <td>RS</td>\n",
              "      <td>SOLEDADE</td>\n",
              "    </tr>\n",
              "    <tr>\n",
              "      <th>3</th>\n",
              "      <td>2013</td>\n",
              "      <td>423</td>\n",
              "      <td>UNIVERSIDADE REGIONAL INTEGRADA DO ALTO URUGUA...</td>\n",
              "      <td>BOLSA PARCIAL 50%</td>\n",
              "      <td>PRESENCIAL</td>\n",
              "      <td>Ciências Biológicas</td>\n",
              "      <td>Noturno</td>\n",
              "      <td>***416930**</td>\n",
              "      <td>Feminino</td>\n",
              "      <td>Branca</td>\n",
              "      <td>17-01-1969</td>\n",
              "      <td>NÃO</td>\n",
              "      <td>SUL</td>\n",
              "      <td>RS</td>\n",
              "      <td>ERECHIM</td>\n",
              "    </tr>\n",
              "    <tr>\n",
              "      <th>4</th>\n",
              "      <td>2013</td>\n",
              "      <td>423</td>\n",
              "      <td>UNIVERSIDADE REGIONAL INTEGRADA DO ALTO URUGUA...</td>\n",
              "      <td>BOLSA INTEGRAL</td>\n",
              "      <td>PRESENCIAL</td>\n",
              "      <td>Ciências Biológicas</td>\n",
              "      <td>Noturno</td>\n",
              "      <td>***727130**</td>\n",
              "      <td>Feminino</td>\n",
              "      <td>Branca</td>\n",
              "      <td>23-05-1995</td>\n",
              "      <td>NÃO</td>\n",
              "      <td>SUL</td>\n",
              "      <td>RS</td>\n",
              "      <td>ERECHIM</td>\n",
              "    </tr>\n",
              "  </tbody>\n",
              "</table>\n",
              "</div>"
            ],
            "text/plain": [
              "   ANO_CONCESSAO_BOLSA  ...  MUNICIPIO_BENEFICIARIO_BOLSA\n",
              "0                 2013  ...                      SOLEDADE\n",
              "1                 2013  ...                      SOLEDADE\n",
              "2                 2013  ...                      SOLEDADE\n",
              "3                 2013  ...                       ERECHIM\n",
              "4                 2013  ...                       ERECHIM\n",
              "\n",
              "[5 rows x 15 columns]"
            ]
          },
          "metadata": {},
          "execution_count": 3
        }
      ]
    },
    {
      "cell_type": "markdown",
      "metadata": {
        "id": "gjkCtDkh7EmH"
      },
      "source": [
        "A função **head** nos retorna as 5 primeiras linhas do conjunto de dados."
      ]
    },
    {
      "cell_type": "markdown",
      "metadata": {
        "id": "jOpE4942kT7B"
      },
      "source": [
        "# **Contagem do  banco de dados**"
      ]
    },
    {
      "cell_type": "code",
      "metadata": {
        "colab": {
          "base_uri": "https://localhost:8080/"
        },
        "id": "TcRVk9EqhAW-",
        "outputId": "752bc3ee-0a5b-4cde-9751-6adb393436cc"
      },
      "source": [
        "df.count()"
      ],
      "execution_count": null,
      "outputs": [
        {
          "output_type": "execute_result",
          "data": {
            "text/plain": [
              "ANO_CONCESSAO_BOLSA               177326\n",
              "CODIGO_EMEC_IES_BOLSA             177326\n",
              "NOME_IES_BOLSA                    177326\n",
              "TIPO_BOLSA                        177326\n",
              "MODALIDADE_ENSINO_BOLSA           177326\n",
              "NOME_CURSO_BOLSA                  177198\n",
              "NOME_TURNO_CURSO_BOLSA            177326\n",
              "CPF_BENEFICIARIO_BOLSA            177326\n",
              "SEXO_BENEFICIARIO_BOLSA           177326\n",
              "RACA_BENEFICIARIO_BOLSA           177326\n",
              "DT_NASCIMENTO_BENEFICIARIO        177326\n",
              "BENEFICIARIO_DEFICIENTE_FISICO    177326\n",
              "REGIAO_BENEFICIARIO_BOLSA         177233\n",
              "SIGLA_UF_BENEFICIARIO_BOLSA       177233\n",
              "MUNICIPIO_BENEFICIARIO_BOLSA      177233\n",
              "dtype: int64"
            ]
          },
          "metadata": {},
          "execution_count": 4
        }
      ]
    },
    {
      "cell_type": "markdown",
      "metadata": {
        "id": "2y_-c--cozaB"
      },
      "source": [
        "Podemos observar atráves da funçao **count** a quantidade de variáveis no banco de dados assim como a quantidade de dados total."
      ]
    },
    {
      "cell_type": "markdown",
      "metadata": {
        "id": "Y0ALy8sFR1M6"
      },
      "source": [
        "# **Verificando dados faltantes**"
      ]
    },
    {
      "cell_type": "code",
      "metadata": {
        "colab": {
          "base_uri": "https://localhost:8080/"
        },
        "id": "VR9hq0oRSC0Y",
        "outputId": "ff51f31d-ec62-412b-b3eb-98ffad5d5cf3"
      },
      "source": [
        "df.isnull().sum()"
      ],
      "execution_count": null,
      "outputs": [
        {
          "output_type": "execute_result",
          "data": {
            "text/plain": [
              "ANO_CONCESSAO_BOLSA                 0\n",
              "CODIGO_EMEC_IES_BOLSA               0\n",
              "NOME_IES_BOLSA                      0\n",
              "TIPO_BOLSA                          0\n",
              "MODALIDADE_ENSINO_BOLSA             0\n",
              "NOME_CURSO_BOLSA                  128\n",
              "NOME_TURNO_CURSO_BOLSA              0\n",
              "CPF_BENEFICIARIO_BOLSA              0\n",
              "SEXO_BENEFICIARIO_BOLSA             0\n",
              "RACA_BENEFICIARIO_BOLSA             0\n",
              "DT_NASCIMENTO_BENEFICIARIO          0\n",
              "BENEFICIARIO_DEFICIENTE_FISICO      0\n",
              "REGIAO_BENEFICIARIO_BOLSA          93\n",
              "SIGLA_UF_BENEFICIARIO_BOLSA        93\n",
              "MUNICIPIO_BENEFICIARIO_BOLSA       93\n",
              "dtype: int64"
            ]
          },
          "metadata": {},
          "execution_count": 5
        }
      ]
    },
    {
      "cell_type": "markdown",
      "metadata": {
        "id": "Gyha2iOPU9CM"
      },
      "source": [
        "Observamos que  4 variáveis possuem valores faltantes como essas variáveis são nominais vamos Substituir  os valores faltantes por 0. poderiamos substituir os valores faltantes tanto pela média de uma variável se tratando de valores némericos tanto quanto apagar as linhas que contém valores nulos porém perderiamos outras imformações dos candidatos."
      ]
    },
    {
      "cell_type": "code",
      "metadata": {
        "id": "wGQNtWiNT0zS"
      },
      "source": [
        "df.fillna(0,inplace=True)"
      ],
      "execution_count": null,
      "outputs": []
    },
    {
      "cell_type": "markdown",
      "metadata": {
        "id": "bKCG3sDDWR5P"
      },
      "source": [
        "Verificando se os valores foram preenchidos."
      ]
    },
    {
      "cell_type": "code",
      "metadata": {
        "colab": {
          "base_uri": "https://localhost:8080/"
        },
        "id": "wb4eFfyjUHz9",
        "outputId": "ef810b07-c475-4507-a227-e5372e3649c3"
      },
      "source": [
        "df.isnull().sum()"
      ],
      "execution_count": null,
      "outputs": [
        {
          "output_type": "execute_result",
          "data": {
            "text/plain": [
              "ANO_CONCESSAO_BOLSA               0\n",
              "CODIGO_EMEC_IES_BOLSA             0\n",
              "NOME_IES_BOLSA                    0\n",
              "TIPO_BOLSA                        0\n",
              "MODALIDADE_ENSINO_BOLSA           0\n",
              "NOME_CURSO_BOLSA                  0\n",
              "NOME_TURNO_CURSO_BOLSA            0\n",
              "CPF_BENEFICIARIO_BOLSA            0\n",
              "SEXO_BENEFICIARIO_BOLSA           0\n",
              "RACA_BENEFICIARIO_BOLSA           0\n",
              "DT_NASCIMENTO_BENEFICIARIO        0\n",
              "BENEFICIARIO_DEFICIENTE_FISICO    0\n",
              "REGIAO_BENEFICIARIO_BOLSA         0\n",
              "SIGLA_UF_BENEFICIARIO_BOLSA       0\n",
              "MUNICIPIO_BENEFICIARIO_BOLSA      0\n",
              "dtype: int64"
            ]
          },
          "metadata": {},
          "execution_count": 7
        }
      ]
    },
    {
      "cell_type": "markdown",
      "metadata": {
        "id": "hjQtrKutWZls"
      },
      "source": [
        "Após os valores devidamente preenchidos vamos verificar o tipo das variáveis a função dtype retorna o tipo de cada variável."
      ]
    },
    {
      "cell_type": "code",
      "metadata": {
        "id": "xQ0V5t1nAcWl"
      },
      "source": [
        ""
      ],
      "execution_count": null,
      "outputs": []
    },
    {
      "cell_type": "code",
      "metadata": {
        "colab": {
          "base_uri": "https://localhost:8080/"
        },
        "id": "QDyE_u1zWw3I",
        "outputId": "ce4cce2b-0180-4720-b557-548deb0a6c78"
      },
      "source": [
        "df.dtypes"
      ],
      "execution_count": null,
      "outputs": [
        {
          "output_type": "execute_result",
          "data": {
            "text/plain": [
              "ANO_CONCESSAO_BOLSA                int64\n",
              "CODIGO_EMEC_IES_BOLSA              int64\n",
              "NOME_IES_BOLSA                    object\n",
              "TIPO_BOLSA                        object\n",
              "MODALIDADE_ENSINO_BOLSA           object\n",
              "NOME_CURSO_BOLSA                  object\n",
              "NOME_TURNO_CURSO_BOLSA            object\n",
              "CPF_BENEFICIARIO_BOLSA            object\n",
              "SEXO_BENEFICIARIO_BOLSA           object\n",
              "RACA_BENEFICIARIO_BOLSA           object\n",
              "DT_NASCIMENTO_BENEFICIARIO        object\n",
              "BENEFICIARIO_DEFICIENTE_FISICO    object\n",
              "REGIAO_BENEFICIARIO_BOLSA         object\n",
              "SIGLA_UF_BENEFICIARIO_BOLSA       object\n",
              "MUNICIPIO_BENEFICIARIO_BOLSA      object\n",
              "dtype: object"
            ]
          },
          "metadata": {},
          "execution_count": 8
        }
      ]
    },
    {
      "cell_type": "markdown",
      "metadata": {
        "id": "IfASJwfVjp8Z"
      },
      "source": [
        ""
      ]
    },
    {
      "cell_type": "markdown",
      "metadata": {
        "id": "iUPqgzXHtnGt"
      },
      "source": [
        "**CURSO**"
      ]
    },
    {
      "cell_type": "code",
      "metadata": {
        "colab": {
          "base_uri": "https://localhost:8080/"
        },
        "id": "xlcbWuevhux3",
        "outputId": "110a9f0d-4e6c-490b-d3d9-e25472cad634"
      },
      "source": [
        "df['NOME_CURSO_BOLSA'].value_counts()"
      ],
      "execution_count": null,
      "outputs": [
        {
          "output_type": "execute_result",
          "data": {
            "text/plain": [
              "Administração                    22654\n",
              "Direito                          15122\n",
              "Pedagogia                        12889\n",
              "Ciências Contábeis               10825\n",
              "Gestão De Recursos Humanos        7712\n",
              "                                 ...  \n",
              "Gestão Administrativa                1\n",
              "Sistemas De Segurança Pública        1\n",
              "Biocombustíveis                      1\n",
              "Gestão De Negócios Em Turismo        1\n",
              "Letras - Língua Inglesa              1\n",
              "Name: NOME_CURSO_BOLSA, Length: 310, dtype: int64"
            ]
          },
          "metadata": {},
          "execution_count": 9
        }
      ]
    },
    {
      "cell_type": "markdown",
      "metadata": {
        "id": "OwWp8m-Dtq1_"
      },
      "source": [
        "Através da função **value_counts** podemos verificar a quantidade de bolsas ofertadas por curso na lista acima temos os 5 cursos com maior número de bolsas ofertadas e os 5 cursos com menor número de bolsas ofertadas.\n",
        " O curso de Administração lidera o ranking com 22.654 mil bolsas ofertadas pelo programa seguido dos cursos de Direito com 15.122 mil , Pedagogia com 12.889 mil , Ciências Contábeis com 10.825 mil e Gestão de Recursos Humanos com 7.712 mil bolsas oferecidas neste ano.\n",
        " "
      ]
    },
    {
      "cell_type": "code",
      "metadata": {
        "id": "u3IwRbHXhFOD"
      },
      "source": [
        ""
      ],
      "execution_count": null,
      "outputs": []
    },
    {
      "cell_type": "markdown",
      "metadata": {
        "id": "eQ_lEHSmujbi"
      },
      "source": [
        "**FACULDADE**"
      ]
    },
    {
      "cell_type": "code",
      "metadata": {
        "colab": {
          "base_uri": "https://localhost:8080/"
        },
        "id": "X_y2aHtPK1UE",
        "outputId": "4f659a6e-42ef-4a36-c1b1-ea9a7dd6374b"
      },
      "source": [
        "df['NOME_IES_BOLSA'].value_counts()"
      ],
      "execution_count": null,
      "outputs": [
        {
          "output_type": "execute_result",
          "data": {
            "text/plain": [
              "UNIVERSIDADE PITÁGORAS UNOPAR                  15626\n",
              "UNIVERSIDADE PAULISTA                           9071\n",
              "UNIVERSIDADE ANHANGUERA - UNIDERP               8506\n",
              "UNIVERSIDADE ESTÁCIO DE SÁ                      5552\n",
              "UNIVERSIDADE SÃO JUDAS TADEU                    3947\n",
              "                                               ...  \n",
              "FACULDADE DE EDUCAÇÃO DE COSTA RICA                1\n",
              "FACULDADE DE TECNOLOGIA TECMED                     1\n",
              "INSTITUTO DE ENSINO SUPERIOR DE PIEDADE            1\n",
              "FACULDADE DE CIÊNCIAS DA SAÚDE DE SÃO PAULO        1\n",
              "INSTITUTO PAULISTA DE ENSINO                       1\n",
              "Name: NOME_IES_BOLSA, Length: 1128, dtype: int64"
            ]
          },
          "metadata": {},
          "execution_count": 10
        }
      ]
    },
    {
      "cell_type": "markdown",
      "metadata": {
        "id": "Lj-qcEFjPFb-"
      },
      "source": [
        "As 5 faculdades com o número maior de bolsas ofertadas no ano de 2013 foram a Pitágoras unopar, Paulista, Anhanguera - UNIDERP, Estácio de sá e São Judaas Tadeu."
      ]
    },
    {
      "cell_type": "markdown",
      "metadata": {
        "id": "LsjWitLguoku"
      },
      "source": [
        "**REGIÃO**"
      ]
    },
    {
      "cell_type": "code",
      "metadata": {
        "colab": {
          "base_uri": "https://localhost:8080/"
        },
        "id": "g5WBVgC_LliA",
        "outputId": "5f1373cc-2f73-426e-c826-11b6a0f1b506"
      },
      "source": [
        "df['REGIAO_BENEFICIARIO_BOLSA'].value_counts()"
      ],
      "execution_count": null,
      "outputs": [
        {
          "output_type": "execute_result",
          "data": {
            "text/plain": [
              "SUDESTE         87339\n",
              "SUL             31836\n",
              "NORDESTE        29327\n",
              "CENTRO-OESTE    17215\n",
              "NORTE           11516\n",
              "0                  93\n",
              "Name: REGIAO_BENEFICIARIO_BOLSA, dtype: int64"
            ]
          },
          "metadata": {},
          "execution_count": 11
        }
      ]
    },
    {
      "cell_type": "code",
      "metadata": {
        "colab": {
          "base_uri": "https://localhost:8080/",
          "height": 299
        },
        "id": "HP-XLL2kMSl_",
        "outputId": "c4db337f-2503-41d8-c0e7-d9a7625c46fc"
      },
      "source": [
        "regioes = ['sudeste', 'sul', 'nordeste','centro-oeste', 'norte']\n",
        "quantidade = [ 87339,31836,29327,17215,11516]\n",
        "plt.bar(regioes, quantidade ,color = \"red\")\n",
        "plt.title('QUANTIDADE DE BOLSAS POR REGIÃO')"
      ],
      "execution_count": null,
      "outputs": [
        {
          "output_type": "execute_result",
          "data": {
            "text/plain": [
              "Text(0.5, 1.0, 'QUANTIDADE DE BOLSAS POR REGIÃO')"
            ]
          },
          "metadata": {},
          "execution_count": 12
        },
        {
          "output_type": "display_data",
          "data": {
            "image/png": "[encoded data removed]",
            "text/plain": [
              "<Figure size 432x288 with 1 Axes>"
            ]
          },
          "metadata": {
            "needs_background": "light"
          }
        }
      ]
    },
    {
      "cell_type": "markdown",
      "metadata": {
        "id": "ZxWGoNwP7qgM"
      },
      "source": [
        "A região sudeste do Brasil lidera o ranking do total de bolsas ofertadas pelo programa com 87.339 mil bolsas concedidas seguido da região sul com 31.836 mil , região nordeste com 29.327, região centro-oeste com 17.215 mil e região norte com 11.516 mil.\n",
        "Abaixo temos o número de bolsas por estado do Brasil."
      ]
    },
    {
      "cell_type": "code",
      "metadata": {
        "colab": {
          "base_uri": "https://localhost:8080/"
        },
        "id": "__PvhLI-Ctdi",
        "outputId": "b7c135c5-76b4-43a3-d613-c235e5037e7c"
      },
      "source": [
        "df['SIGLA_UF_BENEFICIARIO_BOLSA'].value_counts()"
      ],
      "execution_count": null,
      "outputs": [
        {
          "output_type": "execute_result",
          "data": {
            "text/plain": [
              "SP    50772\n",
              "MG    22743\n",
              "RS    12821\n",
              "PR    12304\n",
              "RJ    10605\n",
              "BA     9075\n",
              "SC     6711\n",
              "GO     5501\n",
              "DF     4684\n",
              "PE     4583\n",
              "CE     4374\n",
              "MS     4055\n",
              "AM     3476\n",
              "ES     3219\n",
              "PA     3173\n",
              "MA     3030\n",
              "MT     2975\n",
              "RN     2089\n",
              "RO     2042\n",
              "PB     1738\n",
              "PI     1574\n",
              "AL     1460\n",
              "SE     1404\n",
              "TO     1096\n",
              "AC      879\n",
              "AP      489\n",
              "RR      361\n",
              "0        93\n",
              "Name: SIGLA_UF_BENEFICIARIO_BOLSA, dtype: int64"
            ]
          },
          "metadata": {},
          "execution_count": 22
        }
      ]
    },
    {
      "cell_type": "code",
      "metadata": {
        "id": "f5JQOpyGDvqf"
      },
      "source": [
        "%matplotlib inline"
      ],
      "execution_count": null,
      "outputs": []
    },
    {
      "cell_type": "code",
      "metadata": {
        "colab": {
          "base_uri": "https://localhost:8080/",
          "height": 289
        },
        "id": "_YYEQOLBDvvQ",
        "outputId": "8e03eed7-f93e-4082-c260-a9072300ef2b"
      },
      "source": [
        "df['SIGLA_UF_BENEFICIARIO_BOLSA'].value_counts().plot.bar()"
      ],
      "execution_count": null,
      "outputs": [
        {
          "output_type": "execute_result",
          "data": {
            "text/plain": [
              "<matplotlib.axes._subplots.AxesSubplot at 0x7f3e6ed7c4d0>"
            ]
          },
          "metadata": {},
          "execution_count": 24
        },
        {
          "output_type": "display_data",
          "data": {
            "image/png": "[encoded data removed]",
            "text/plain": [
              "<Figure size 432x288 with 1 Axes>"
            ]
          },
          "metadata": {
            "needs_background": "light"
          }
        }
      ]
    },
    {
      "cell_type": "markdown",
      "metadata": {
        "id": "YmM-uX-HvksQ"
      },
      "source": [
        "**SEXO**"
      ]
    },
    {
      "cell_type": "code",
      "metadata": {
        "colab": {
          "base_uri": "https://localhost:8080/"
        },
        "id": "iRiI0Q1NRoCK",
        "outputId": "840de3a4-d791-47f0-e1ce-fd55f4e1b1e4"
      },
      "source": [
        "df['SEXO_BENEFICIARIO_BOLSA'].value_counts()"
      ],
      "execution_count": null,
      "outputs": [
        {
          "output_type": "execute_result",
          "data": {
            "text/plain": [
              "Feminino     96502\n",
              "Masculino    80824\n",
              "Name: SEXO_BENEFICIARIO_BOLSA, dtype: int64"
            ]
          },
          "metadata": {},
          "execution_count": 13
        }
      ]
    },
    {
      "cell_type": "code",
      "metadata": {
        "colab": {
          "base_uri": "https://localhost:8080/",
          "height": 256
        },
        "id": "8k_sq4v2VvJx",
        "outputId": "a60e87d4-55ec-4df0-babe-1b4f9c347600"
      },
      "source": [
        "sexo = [ 96502,88824]\n",
        "labels = ['feminino', 'masculino']\n",
        "plt.pie(sexo, labels=labels, autopct='%1.1f%%',shadow= 'true')\n",
        "explode = (1,0,1,0)\n",
        "plt.legend(labels, loc = 3)\n",
        "plt.axis('equal')\n",
        "plt.show()"
      ],
      "execution_count": null,
      "outputs": [
        {
          "output_type": "display_data",
          "data": {
            "image/png": "[encoded data removed]",
            "text/plain": [
              "<Figure size 432x288 with 1 Axes>"
            ]
          },
          "metadata": {}
        }
      ]
    },
    {
      "cell_type": "markdown",
      "metadata": {
        "id": "TSNnzl9J7-Ec"
      },
      "source": [
        " Das 177.233 mil bolsas concedidas pelo programa 96.502 mil (52,1%) são de estudantes do sexo feminino."
      ]
    },
    {
      "cell_type": "markdown",
      "metadata": {
        "id": "LpBEyQ_ivsJw"
      },
      "source": [
        "**MODALIDADE**"
      ]
    },
    {
      "cell_type": "code",
      "metadata": {
        "colab": {
          "base_uri": "https://localhost:8080/"
        },
        "id": "-ytGOnWBYwQ6",
        "outputId": "119a9354-b9b6-451b-d20c-645a976129fb"
      },
      "source": [
        "df['MODALIDADE_ENSINO_BOLSA'].value_counts()"
      ],
      "execution_count": null,
      "outputs": [
        {
          "output_type": "execute_result",
          "data": {
            "text/plain": [
              "PRESENCIAL              136701\n",
              "EDUCAÇÃO A DISTÂNCIA     40625\n",
              "Name: MODALIDADE_ENSINO_BOLSA, dtype: int64"
            ]
          },
          "metadata": {},
          "execution_count": 15
        }
      ]
    },
    {
      "cell_type": "code",
      "metadata": {
        "colab": {
          "base_uri": "https://localhost:8080/",
          "height": 248
        },
        "id": "2J5VDrrSZNLp",
        "outputId": "1b2fe982-c684-4825-be37-dba71fc9ed27"
      },
      "source": [
        "sexo = [ 136701,40625]\n",
        "labels = ['presencial', 'a distância']\n",
        "plt.pie(sexo, labels=labels, autopct='%1.1f%%',shadow= 'true')\n",
        "explode = (1,0,1,0)\n",
        "plt.legend(labels, loc = 3)\n",
        "plt.axis('equal')\n",
        "plt.show()"
      ],
      "execution_count": null,
      "outputs": [
        {
          "output_type": "display_data",
          "data": {
            "image/png": "[encoded data removed]",
            "text/plain": [
              "<Figure size 432x288 with 1 Axes>"
            ]
          },
          "metadata": {}
        }
      ]
    },
    {
      "cell_type": "markdown",
      "metadata": {
        "id": "m3uQZkau81EU"
      },
      "source": [
        "A modalidade que mais ofertou bolsas foi a presencial com total de 136.701 mil bolsas ofertadas."
      ]
    },
    {
      "cell_type": "markdown",
      "metadata": {
        "id": "IHC1HtBEvyQJ"
      },
      "source": [
        "**RAÇA**"
      ]
    },
    {
      "cell_type": "code",
      "metadata": {
        "colab": {
          "base_uri": "https://localhost:8080/"
        },
        "id": "Nr18t8y-ZiQ1",
        "outputId": "7310998f-a655-4716-b8ef-ab49012f0400"
      },
      "source": [
        "df['RACA_BENEFICIARIO_BOLSA'].value_counts()"
      ],
      "execution_count": null,
      "outputs": [
        {
          "output_type": "execute_result",
          "data": {
            "text/plain": [
              "Branca           76905\n",
              "Parda            75177\n",
              "Preta            22055\n",
              "Amarela           2959\n",
              "Indígena           149\n",
              "Não Informada       81\n",
              "Name: RACA_BENEFICIARIO_BOLSA, dtype: int64"
            ]
          },
          "metadata": {},
          "execution_count": 17
        }
      ]
    },
    {
      "cell_type": "code",
      "metadata": {
        "colab": {
          "base_uri": "https://localhost:8080/",
          "height": 267
        },
        "id": "CN6P8hnUZwBx",
        "outputId": "c51060ed-2658-4db1-9c9d-77805fe71d87"
      },
      "source": [
        " \n",
        "labels = ['branca','parda', 'preta','amarela','indigena','não informada']\n",
        "raça = [76905,75177,22055,2959,149,81]\n",
        "plt.bar(labels,raça)\n",
        "plt.show()"
      ],
      "execution_count": null,
      "outputs": [
        {
          "output_type": "display_data",
          "data": {
            "image/png": "[encoded data removed]",
            "text/plain": [
              "<Figure size 432x288 with 1 Axes>"
            ]
          },
          "metadata": {
            "needs_background": "light"
          }
        }
      ]
    },
    {
      "cell_type": "markdown",
      "metadata": {
        "id": "Fwgjhfdz9Xxk"
      },
      "source": [
        "Os beneficiários que se declararam brancos ou pardos somam 85,8% do total dos estudantes ."
      ]
    },
    {
      "cell_type": "markdown",
      "metadata": {
        "id": "gbtNuqKYv3sI"
      },
      "source": [
        "**TIPO DE BOLSA**"
      ]
    },
    {
      "cell_type": "code",
      "metadata": {
        "colab": {
          "base_uri": "https://localhost:8080/"
        },
        "id": "WUbLUFq3eTYS",
        "outputId": "210c7caf-9a38-49b4-8090-2b5c8162843c"
      },
      "source": [
        "df['TIPO_BOLSA'].value_counts()"
      ],
      "execution_count": null,
      "outputs": [
        {
          "output_type": "execute_result",
          "data": {
            "text/plain": [
              "BOLSA INTEGRAL       134571\n",
              "BOLSA PARCIAL 50%     42755\n",
              "Name: TIPO_BOLSA, dtype: int64"
            ]
          },
          "metadata": {},
          "execution_count": 19
        }
      ]
    },
    {
      "cell_type": "code",
      "metadata": {
        "colab": {
          "base_uri": "https://localhost:8080/",
          "height": 248
        },
        "id": "uupmz_DCelYW",
        "outputId": "03ce9510-8ff7-4416-a1e2-124b24d7fe44"
      },
      "source": [
        "tipo = [134571,42755]\n",
        "labels = ['bolsa integral', ' bolsa parcial 50%']\n",
        "plt.pie(tipo, labels=labels, autopct='%1.1f%%',shadow= 'true')\n",
        "explode = (1,0,1,0)\n",
        "plt.legend(labels, loc = 3)\n",
        "plt.axis('equal')\n",
        "plt.show()"
      ],
      "execution_count": null,
      "outputs": [
        {
          "output_type": "display_data",
          "data": {
            "image/png": "[encoded data removed]",
            "text/plain": [
              "<Figure size 432x288 with 1 Axes>"
            ]
          },
          "metadata": {}
        }
      ]
    },
    {
      "cell_type": "markdown",
      "metadata": {
        "id": "P8sLZVlL99Jg"
      },
      "source": [
        "A bolsa integral (100%) lidera a oferta do ProUni no ano de 2013 com 134.517 bolsas ofertadas."
      ]
    },
    {
      "cell_type": "markdown",
      "metadata": {
        "id": "GZ6qao5t-Rs4"
      },
      "source": [
        "**CONCLUSÃO**\n",
        " \n",
        "A análise descritiva dos dados serve para nos mostrar um desenho do nosso banco de dados ela é a primeira manipulação realizada em um estudo quantitativo e  tem como objetivo  resumir, sumarizar  e explorar o comportamento dos dados.\n",
        "\n",
        "Isso pode ser feito através de tabelas de frequência, gráficos e medidas de resumo numérico como  mostrado no exemplo desse trabalho que explorou os dadoa do PROUNI 2013 onde foi possível através das análises observar o comportamento dos dados para com isso responder às questões propostas por esse trabalho.\n",
        "\n",
        "Após a análise descritiva dos dados é observando suas tendências e somente depois é que podemos futuramente aplicar alguma outra técnica estatística para responder algumas hipóteses formuladas a partir dessas análises e com isso aprofundar o estudo."
      ]
    },
    {
      "cell_type": "markdown",
      "metadata": {
        "id": "fNw7U6GcijB8"
      },
      "source": [
        "ANA PAULA S. VANDERLEY\n",
        "\n",
        "SALVADOR - 2021\n"
      ]
    }
  ]
}